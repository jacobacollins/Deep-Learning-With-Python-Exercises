{
 "cells": [
  {
   "cell_type": "markdown",
   "metadata": {},
   "source": [
    "# load model"
   ]
  },
  {
   "cell_type": "code",
   "execution_count": 1,
   "metadata": {},
   "outputs": [],
   "source": [
    "from tensorflow import keras\n",
    "\n",
    "conv_base = keras.applications.VGG16(weights='imagenet',\n",
    "                                     include_top = False,\n",
    "                                     input_shape = (150,150,3))"
   ]
  },
  {
   "cell_type": "markdown",
   "metadata": {},
   "source": [
    "# Investigate Structure"
   ]
  },
  {
   "cell_type": "code",
   "execution_count": 2,
   "metadata": {},
   "outputs": [
    {
     "name": "stdout",
     "output_type": "stream",
     "text": [
      "Model: \"vgg16\"\n",
      "_________________________________________________________________\n",
      "Layer (type)                 Output Shape              Param #   \n",
      "=================================================================\n",
      "input_1 (InputLayer)         [(None, 150, 150, 3)]     0         \n",
      "_________________________________________________________________\n",
      "block1_conv1 (Conv2D)        (None, 150, 150, 64)      1792      \n",
      "_________________________________________________________________\n",
      "block1_conv2 (Conv2D)        (None, 150, 150, 64)      36928     \n",
      "_________________________________________________________________\n",
      "block1_pool (MaxPooling2D)   (None, 75, 75, 64)        0         \n",
      "_________________________________________________________________\n",
      "block2_conv1 (Conv2D)        (None, 75, 75, 128)       73856     \n",
      "_________________________________________________________________\n",
      "block2_conv2 (Conv2D)        (None, 75, 75, 128)       147584    \n",
      "_________________________________________________________________\n",
      "block2_pool (MaxPooling2D)   (None, 37, 37, 128)       0         \n",
      "_________________________________________________________________\n",
      "block3_conv1 (Conv2D)        (None, 37, 37, 256)       295168    \n",
      "_________________________________________________________________\n",
      "block3_conv2 (Conv2D)        (None, 37, 37, 256)       590080    \n",
      "_________________________________________________________________\n",
      "block3_conv3 (Conv2D)        (None, 37, 37, 256)       590080    \n",
      "_________________________________________________________________\n",
      "block3_pool (MaxPooling2D)   (None, 18, 18, 256)       0         \n",
      "_________________________________________________________________\n",
      "block4_conv1 (Conv2D)        (None, 18, 18, 512)       1180160   \n",
      "_________________________________________________________________\n",
      "block4_conv2 (Conv2D)        (None, 18, 18, 512)       2359808   \n",
      "_________________________________________________________________\n",
      "block4_conv3 (Conv2D)        (None, 18, 18, 512)       2359808   \n",
      "_________________________________________________________________\n",
      "block4_pool (MaxPooling2D)   (None, 9, 9, 512)         0         \n",
      "_________________________________________________________________\n",
      "block5_conv1 (Conv2D)        (None, 9, 9, 512)         2359808   \n",
      "_________________________________________________________________\n",
      "block5_conv2 (Conv2D)        (None, 9, 9, 512)         2359808   \n",
      "_________________________________________________________________\n",
      "block5_conv3 (Conv2D)        (None, 9, 9, 512)         2359808   \n",
      "_________________________________________________________________\n",
      "block5_pool (MaxPooling2D)   (None, 4, 4, 512)         0         \n",
      "=================================================================\n",
      "Total params: 14,714,688\n",
      "Trainable params: 14,714,688\n",
      "Non-trainable params: 0\n",
      "_________________________________________________________________\n"
     ]
    }
   ],
   "source": [
    "conv_base.summary()"
   ]
  },
  {
   "cell_type": "markdown",
   "metadata": {},
   "source": [
    "# Method 1 (Utilizing convolutional base, no Densely connected Layer base)"
   ]
  },
  {
   "cell_type": "code",
   "execution_count": 3,
   "metadata": {},
   "outputs": [
    {
     "name": "stdout",
     "output_type": "stream",
     "text": [
      "Found 2000 images belonging to 2 classes.\n",
      "Found 1000 images belonging to 2 classes.\n",
      "Found 1000 images belonging to 2 classes.\n"
     ]
    }
   ],
   "source": [
    "import os \n",
    "import numpy as np\n",
    "from tensorflow import keras\n",
    "\n",
    "base_dir = os.path.abspath('/Users/jacob/OneDrive/Desktop/GitHub/Deep-Learning-With-Python-Exercises/cats_and_dogs_small')\n",
    "\n",
    "os.chdir(base_dir)\n",
    "\n",
    "train_dir = os.path.join(base_dir, 'train')\n",
    "validation_dir = os.path.join(base_dir, 'validation')\n",
    "test_dir = os.path.join(base_dir, 'test')\n",
    "\n",
    "datagen = keras.preprocessing.image.ImageDataGenerator(rescale = 1./255)\n",
    "batch_size = 20\n",
    "\n",
    "def extract_features(directory, sample_count):\n",
    "    features = np.zeros(shape=(sample_count, 4, 4, 512))\n",
    "    labels = np.zeros(shape=(sample_count))\n",
    "    generator = datagen.flow_from_directory(\n",
    "        directory,\n",
    "        target_size = (150,150),\n",
    "        batch_size = batch_size,\n",
    "        class_mode = 'binary'\n",
    "    )\n",
    "    i = 0\n",
    "    for inputs_batch, labels_batch  in generator:\n",
    "        features_batch = conv_base.predict(inputs_batch)\n",
    "        features[i * batch_size: (i + 1) * batch_size] = features_batch\n",
    "        labels[i * batch_size: (i + 1) *  batch_size] = labels_batch\n",
    "        i += 1\n",
    "        if i * batch_size>= sample_count:\n",
    "            break\n",
    "    return features, labels\n",
    "\n",
    "train_features, train_labels = extract_features(train_dir, 2000)\n",
    "validation_features, validation_labels = extract_features(validation_dir, 1000)\n",
    "test_features, test_labels = extract_features(test_dir, 1000)"
   ]
  },
  {
   "cell_type": "markdown",
   "metadata": {},
   "source": [
    "# Flatten features to lower dimensionality"
   ]
  },
  {
   "cell_type": "code",
   "execution_count": 4,
   "metadata": {},
   "outputs": [],
   "source": [
    "train_features = np.reshape(train_features, (2000, 4 * 4 * 512))\n",
    "validation_features = np.reshape(validation_features, (1000, 4*4*512))\n",
    "test_features = np.reshape(test_features, (1000, 4 * 4 * 512))"
   ]
  },
  {
   "cell_type": "markdown",
   "metadata": {},
   "source": [
    "# Feed feature data into Densely  connected classifier"
   ]
  },
  {
   "cell_type": "code",
   "execution_count": 5,
   "metadata": {},
   "outputs": [
    {
     "name": "stdout",
     "output_type": "stream",
     "text": [
      "Epoch 1/30\n",
      "100/100 [==============================] - 4s 33ms/step - loss: 0.6713 - acc: 0.6191 - val_loss: 0.4336 - val_acc: 0.8400\n",
      "Epoch 2/30\n",
      "100/100 [==============================] - 2s 23ms/step - loss: 0.4456 - acc: 0.7815 - val_loss: 0.3563 - val_acc: 0.8610\n",
      "Epoch 3/30\n",
      "100/100 [==============================] - 2s 23ms/step - loss: 0.3426 - acc: 0.8560 - val_loss: 0.3202 - val_acc: 0.8690\n",
      "Epoch 4/30\n",
      "100/100 [==============================] - 2s 23ms/step - loss: 0.3122 - acc: 0.8695 - val_loss: 0.2966 - val_acc: 0.8830\n",
      "Epoch 5/30\n",
      "100/100 [==============================] - 2s 23ms/step - loss: 0.2715 - acc: 0.9009 - val_loss: 0.2812 - val_acc: 0.8900\n",
      "Epoch 6/30\n",
      "100/100 [==============================] - 2s 23ms/step - loss: 0.2497 - acc: 0.8934 - val_loss: 0.2689 - val_acc: 0.8900\n",
      "Epoch 7/30\n",
      "100/100 [==============================] - 2s 23ms/step - loss: 0.2414 - acc: 0.9050 - val_loss: 0.2615 - val_acc: 0.8950\n",
      "Epoch 8/30\n",
      "100/100 [==============================] - 2s 23ms/step - loss: 0.2212 - acc: 0.9174 - val_loss: 0.2549 - val_acc: 0.8950\n",
      "Epoch 9/30\n",
      "100/100 [==============================] - 2s 22ms/step - loss: 0.2067 - acc: 0.9239 - val_loss: 0.2555 - val_acc: 0.8910\n",
      "Epoch 10/30\n",
      "100/100 [==============================] - 2s 23ms/step - loss: 0.2043 - acc: 0.9298 - val_loss: 0.2460 - val_acc: 0.9040\n",
      "Epoch 11/30\n",
      "100/100 [==============================] - 2s 23ms/step - loss: 0.2055 - acc: 0.9306 - val_loss: 0.2444 - val_acc: 0.9010\n",
      "Epoch 12/30\n",
      "100/100 [==============================] - 2s 22ms/step - loss: 0.1816 - acc: 0.9342 - val_loss: 0.2414 - val_acc: 0.9040\n",
      "Epoch 13/30\n",
      "100/100 [==============================] - 2s 22ms/step - loss: 0.1752 - acc: 0.9415 - val_loss: 0.2396 - val_acc: 0.9030\n",
      "Epoch 14/30\n",
      "100/100 [==============================] - 2s 23ms/step - loss: 0.1504 - acc: 0.9551 - val_loss: 0.2422 - val_acc: 0.9000\n",
      "Epoch 15/30\n",
      "100/100 [==============================] - 2s 22ms/step - loss: 0.1544 - acc: 0.9447 - val_loss: 0.2362 - val_acc: 0.9040\n",
      "Epoch 16/30\n",
      "100/100 [==============================] - 2s 23ms/step - loss: 0.1540 - acc: 0.9430 - val_loss: 0.2389 - val_acc: 0.9040\n",
      "Epoch 17/30\n",
      "100/100 [==============================] - 2s 22ms/step - loss: 0.1468 - acc: 0.9509 - val_loss: 0.2397 - val_acc: 0.9020\n",
      "Epoch 18/30\n",
      "100/100 [==============================] - 2s 23ms/step - loss: 0.1531 - acc: 0.9457 - val_loss: 0.2364 - val_acc: 0.9000\n",
      "Epoch 19/30\n",
      "100/100 [==============================] - 2s 22ms/step - loss: 0.1381 - acc: 0.9502 - val_loss: 0.2526 - val_acc: 0.8910\n",
      "Epoch 20/30\n",
      "100/100 [==============================] - 2s 23ms/step - loss: 0.1248 - acc: 0.9567 - val_loss: 0.2342 - val_acc: 0.9010\n",
      "Epoch 21/30\n",
      "100/100 [==============================] - 2s 22ms/step - loss: 0.1200 - acc: 0.9660 - val_loss: 0.2455 - val_acc: 0.8980\n",
      "Epoch 22/30\n",
      "100/100 [==============================] - 2s 22ms/step - loss: 0.1170 - acc: 0.9610 - val_loss: 0.2403 - val_acc: 0.9040\n",
      "Epoch 23/30\n",
      "100/100 [==============================] - 2s 22ms/step - loss: 0.1097 - acc: 0.9648 - val_loss: 0.2459 - val_acc: 0.8970\n",
      "Epoch 24/30\n",
      "100/100 [==============================] - 2s 22ms/step - loss: 0.1059 - acc: 0.9641 - val_loss: 0.2348 - val_acc: 0.9030\n",
      "Epoch 25/30\n",
      "100/100 [==============================] - 2s 23ms/step - loss: 0.1069 - acc: 0.9651 - val_loss: 0.2430 - val_acc: 0.8970\n",
      "Epoch 26/30\n",
      "100/100 [==============================] - 2s 23ms/step - loss: 0.0983 - acc: 0.9687 - val_loss: 0.2365 - val_acc: 0.9030\n",
      "Epoch 27/30\n",
      "100/100 [==============================] - 2s 22ms/step - loss: 0.0848 - acc: 0.9784 - val_loss: 0.2365 - val_acc: 0.9040\n",
      "Epoch 28/30\n",
      "100/100 [==============================] - 2s 23ms/step - loss: 0.0905 - acc: 0.9734 - val_loss: 0.2723 - val_acc: 0.8920\n",
      "Epoch 29/30\n",
      "100/100 [==============================] - 2s 22ms/step - loss: 0.0793 - acc: 0.9776 - val_loss: 0.2379 - val_acc: 0.8990\n",
      "Epoch 30/30\n",
      "100/100 [==============================] - 2s 23ms/step - loss: 0.0877 - acc: 0.9736 - val_loss: 0.2390 - val_acc: 0.9030\n"
     ]
    }
   ],
   "source": [
    "from tensorflow import keras\n",
    "\n",
    "model = keras.models.Sequential()\n",
    "model.add(keras.layers.Dense(256, activation='relu', input_dim=4*4*512))\n",
    "model.add(keras.layers.Dropout(0.5))\n",
    "model.add(keras.layers.Dense(1, activation='sigmoid'))\n",
    "\n",
    "model.compile(optimizer = keras.optimizers.RMSprop(lr=2e-5),\n",
    "              loss = 'binary_crossentropy',\n",
    "              metrics = ['acc'])\n",
    "\n",
    "history = model.fit(train_features, train_labels, \n",
    "                    epochs = 30,\n",
    "                    batch_size = 20,\n",
    "                    validation_data = (validation_features, validation_labels))"
   ]
  },
  {
   "cell_type": "markdown",
   "metadata": {},
   "source": [
    "# Plot results"
   ]
  },
  {
   "cell_type": "code",
   "execution_count": 6,
   "metadata": {},
   "outputs": [
    {
     "data": {
      "image/png": "[encoded data removed]",
      "text/plain": [
       "<Figure size 432x288 with 1 Axes>"
      ]
     },
     "metadata": {
      "needs_background": "light"
     },
     "output_type": "display_data"
    },
    {
     "data": {
      "image/png": "[encoded data removed]",
      "text/plain": [
       "<Figure size 432x288 with 1 Axes>"
      ]
     },
     "metadata": {
      "needs_background": "light"
     },
     "output_type": "display_data"
    }
   ],
   "source": [
    "import matplotlib.pyplot as plt\n",
    "\n",
    "acc = history.history['acc']\n",
    "val_acc = history.history['val_acc']\n",
    "loss = history.history['loss']\n",
    "val_loss = history.history['val_loss']\n",
    "\n",
    "epochs = range(1, len(acc) + 1)\n",
    "\n",
    "plt.plot(epochs, acc, 'bo', label ='Training acc')\n",
    "plt.plot(epochs, val_acc, 'b', label='Validation acc')\n",
    "plt.title('Training and validation accuracy')\n",
    "plt.legend()\n",
    "\n",
    "plt.figure()\n",
    "\n",
    "plt.plot(epochs, loss, 'bo', label='Training loss')\n",
    "plt.plot(epochs, val_loss, 'b', label='Validation loss')\n",
    "plt.title('Training and validation loss')\n",
    "plt.legend()\n",
    "\n",
    "plt.show()"
   ]
  },
  {
   "cell_type": "markdown",
   "metadata": {},
   "source": [
    "# Method 2 - Add densely connected layer on top of convolutional base"
   ]
  },
  {
   "cell_type": "code",
   "execution_count": 9,
   "metadata": {},
   "outputs": [],
   "source": [
    "from tensorflow import keras\n",
    "conv_base.trainable = False\n",
    "model = keras.models.Sequential()\n",
    "model.add(conv_base)\n",
    "model.add(keras.layers.Flatten())\n",
    "model.add(keras.layers.Dense(256, activation='relu'))\n",
    "model.add(keras.layers.Dense(1, activation='sigmoid'))"
   ]
  },
  {
   "cell_type": "markdown",
   "metadata": {},
   "source": [
    "# Model summary"
   ]
  },
  {
   "cell_type": "code",
   "execution_count": 10,
   "metadata": {},
   "outputs": [
    {
     "name": "stdout",
     "output_type": "stream",
     "text": [
      "Model: \"sequential_2\"\n",
      "_________________________________________________________________\n",
      "Layer (type)                 Output Shape              Param #   \n",
      "=================================================================\n",
      "vgg16 (Functional)           (None, 4, 4, 512)         14714688  \n",
      "_________________________________________________________________\n",
      "flatten_1 (Flatten)          (None, 8192)              0         \n",
      "_________________________________________________________________\n",
      "dense_4 (Dense)              (None, 256)               2097408   \n",
      "_________________________________________________________________\n",
      "dense_5 (Dense)              (None, 1)                 257       \n",
      "=================================================================\n",
      "Total params: 16,812,353\n",
      "Trainable params: 2,097,665\n",
      "Non-trainable params: 14,714,688\n",
      "_________________________________________________________________\n"
     ]
    }
   ],
   "source": [
    "model.summary()"
   ]
  },
  {
   "cell_type": "markdown",
   "metadata": {},
   "source": [
    "# Train model and freeze the convolutional base"
   ]
  },
  {
   "cell_type": "code",
   "execution_count": 12,
   "metadata": {},
   "outputs": [
    {
     "name": "stdout",
     "output_type": "stream",
     "text": [
      "Found 2000 images belonging to 2 classes.\n",
      "Found 1000 images belonging to 2 classes.\n"
     ]
    }
   ],
   "source": [
    "train_datagen = keras.preprocessing.image.ImageDataGenerator(\n",
    "    rescale= 1./255,\n",
    "    rotation_range = 40, \n",
    "    width_shift_range = 0.2, \n",
    "    height_shift_range = 0.2,\n",
    "    shear_range = 0.2,\n",
    "    zoom_range = 0.2, \n",
    "    horizontal_flip = True,\n",
    "    fill_mode = 'nearest'\n",
    ")\n",
    "\n",
    "test_datagen = keras.preprocessing.image.ImageDataGenerator(rescale = 1./255)\n",
    "\n",
    "train_generator = train_datagen.flow_from_directory(\n",
    "    train_dir,\n",
    "    target_size = (150, 150),\n",
    "    batch_size = 20,\n",
    "    class_mode = 'binary'\n",
    "    \n",
    ")\n",
    "\n",
    "validation_generator = test_datagen.flow_from_directory(\n",
    "    validation_dir,\n",
    "    target_size = (150,150),\n",
    "    batch_size = 20,\n",
    "    class_mode = 'binary'\n",
    ")\n",
    "\n",
    "\n"
   ]
  },
  {
   "cell_type": "markdown",
   "metadata": {},
   "source": [
    "# Compile Model"
   ]
  },
  {
   "cell_type": "code",
   "execution_count": 13,
   "metadata": {},
   "outputs": [
    {
     "name": "stderr",
     "output_type": "stream",
     "text": [
      "C:\\Users\\jacob\\anaconda3\\lib\\site-packages\\tensorflow\\python\\keras\\engine\\training.py:1844: UserWarning: `Model.fit_generator` is deprecated and will be removed in a future version. Please use `Model.fit`, which supports generators.\n",
      "  warnings.warn('`Model.fit_generator` is deprecated and '\n"
     ]
    },
    {
     "name": "stdout",
     "output_type": "stream",
     "text": [
      "Epoch 1/30\n",
      "100/100 [==============================] - 147s 1s/step - loss: 0.6356 - acc: 0.6400 - val_loss: 0.4560 - val_acc: 0.8290\n",
      "Epoch 2/30\n",
      "100/100 [==============================] - 142s 1s/step - loss: 0.5053 - acc: 0.7770 - val_loss: 0.3902 - val_acc: 0.8510\n",
      "Epoch 3/30\n",
      "100/100 [==============================] - 142s 1s/step - loss: 0.4353 - acc: 0.8167 - val_loss: 0.3406 - val_acc: 0.8510\n",
      "Epoch 4/30\n",
      "100/100 [==============================] - 145s 1s/step - loss: 0.4155 - acc: 0.8165 - val_loss: 0.3090 - val_acc: 0.8810\n",
      "Epoch 5/30\n",
      "100/100 [==============================] - 146s 1s/step - loss: 0.3906 - acc: 0.8220 - val_loss: 0.2912 - val_acc: 0.8930\n",
      "Epoch 6/30\n",
      "100/100 [==============================] - 157s 2s/step - loss: 0.3850 - acc: 0.8285 - val_loss: 0.2836 - val_acc: 0.8910\n",
      "Epoch 7/30\n",
      "100/100 [==============================] - 171s 2s/step - loss: 0.3566 - acc: 0.8418 - val_loss: 0.2777 - val_acc: 0.8910\n",
      "Epoch 8/30\n",
      "100/100 [==============================] - 159s 2s/step - loss: 0.3747 - acc: 0.8287 - val_loss: 0.2754 - val_acc: 0.8880\n",
      "Epoch 9/30\n",
      "100/100 [==============================] - 160s 2s/step - loss: 0.3414 - acc: 0.8474 - val_loss: 0.2627 - val_acc: 0.8960\n",
      "Epoch 10/30\n",
      "100/100 [==============================] - 158s 2s/step - loss: 0.3260 - acc: 0.8537 - val_loss: 0.2618 - val_acc: 0.8980\n",
      "Epoch 11/30\n",
      "100/100 [==============================] - 173s 2s/step - loss: 0.3340 - acc: 0.8580 - val_loss: 0.2533 - val_acc: 0.8990\n",
      "Epoch 12/30\n",
      "100/100 [==============================] - 164s 2s/step - loss: 0.3259 - acc: 0.8657 - val_loss: 0.2627 - val_acc: 0.8950\n",
      "Epoch 13/30\n",
      "100/100 [==============================] - 181s 2s/step - loss: 0.3157 - acc: 0.8567 - val_loss: 0.2467 - val_acc: 0.8970\n",
      "Epoch 14/30\n",
      "100/100 [==============================] - 169s 2s/step - loss: 0.3327 - acc: 0.8569 - val_loss: 0.2571 - val_acc: 0.8980\n",
      "Epoch 15/30\n",
      "100/100 [==============================] - 164s 2s/step - loss: 0.3163 - acc: 0.8569 - val_loss: 0.2410 - val_acc: 0.9070\n",
      "Epoch 16/30\n",
      "100/100 [==============================] - 181s 2s/step - loss: 0.3022 - acc: 0.8768 - val_loss: 0.2420 - val_acc: 0.9030\n",
      "Epoch 17/30\n",
      "100/100 [==============================] - 178s 2s/step - loss: 0.2850 - acc: 0.8903 - val_loss: 0.2376 - val_acc: 0.9010\n",
      "Epoch 18/30\n",
      "100/100 [==============================] - 148s 1s/step - loss: 0.3193 - acc: 0.8505 - val_loss: 0.2418 - val_acc: 0.9040\n",
      "Epoch 19/30\n",
      "100/100 [==============================] - 141s 1s/step - loss: 0.3035 - acc: 0.8646 - val_loss: 0.2392 - val_acc: 0.9060\n",
      "Epoch 20/30\n",
      "100/100 [==============================] - 140s 1s/step - loss: 0.3090 - acc: 0.8645 - val_loss: 0.2365 - val_acc: 0.9040\n",
      "Epoch 21/30\n",
      "100/100 [==============================] - 141s 1s/step - loss: 0.2955 - acc: 0.8734 - val_loss: 0.2421 - val_acc: 0.9090\n",
      "Epoch 22/30\n",
      "100/100 [==============================] - 140s 1s/step - loss: 0.2945 - acc: 0.8769 - val_loss: 0.2377 - val_acc: 0.9050\n",
      "Epoch 23/30\n",
      "100/100 [==============================] - 143s 1s/step - loss: 0.3073 - acc: 0.8652 - val_loss: 0.2370 - val_acc: 0.9070\n",
      "Epoch 24/30\n",
      "100/100 [==============================] - 153s 2s/step - loss: 0.3038 - acc: 0.8560 - val_loss: 0.2461 - val_acc: 0.9050\n",
      "Epoch 25/30\n",
      "100/100 [==============================] - 156s 2s/step - loss: 0.2762 - acc: 0.8899 - val_loss: 0.2349 - val_acc: 0.9110\n",
      "Epoch 26/30\n",
      "100/100 [==============================] - 151s 2s/step - loss: 0.2973 - acc: 0.8769 - val_loss: 0.2371 - val_acc: 0.9080\n",
      "Epoch 27/30\n",
      "100/100 [==============================] - 153s 2s/step - loss: 0.2767 - acc: 0.8869 - val_loss: 0.2366 - val_acc: 0.9060\n",
      "Epoch 28/30\n",
      "100/100 [==============================] - 156s 2s/step - loss: 0.2874 - acc: 0.8671 - val_loss: 0.2371 - val_acc: 0.9090\n",
      "Epoch 29/30\n",
      "100/100 [==============================] - 150s 2s/step - loss: 0.2980 - acc: 0.8683 - val_loss: 0.2376 - val_acc: 0.9060\n",
      "Epoch 30/30\n",
      "100/100 [==============================] - 143s 1s/step - loss: 0.2848 - acc: 0.8706 - val_loss: 0.2374 - val_acc: 0.9060\n"
     ]
    }
   ],
   "source": [
    "model.compile(loss='binary_crossentropy',\n",
    "              optimizer = keras.optimizers.RMSprop(lr = 2e-5),\n",
    "             metrics = ['acc'])\n",
    "history = model.fit_generator(train_generator,\n",
    "                             steps_per_epoch = 100,\n",
    "                             epochs = 30,\n",
    "                             validation_data = validation_generator,\n",
    "                             validation_steps = 50)"
   ]
  },
  {
   "cell_type": "markdown",
   "metadata": {},
   "source": [
    "# Plot Results"
   ]
  },
  {
   "cell_type": "code",
   "execution_count": 14,
   "metadata": {},
   "outputs": [
    {
     "data": {
      "image/png": "[encoded data removed]",
      "text/plain": [
       "<Figure size 432x288 with 1 Axes>"
      ]
     },
     "metadata": {
      "needs_background": "light"
     },
     "output_type": "display_data"
    },
    {
     "data": {
      "image/png": "[encoded data removed]",
      "text/plain": [
       "<Figure size 432x288 with 1 Axes>"
      ]
     },
     "metadata": {
      "needs_background": "light"
     },
     "output_type": "display_data"
    }
   ],
   "source": [
    "import matplotlib.pyplot as plt\n",
    "\n",
    "acc = history.history['acc']\n",
    "val_acc = history.history['val_acc']\n",
    "loss = history.history['loss']\n",
    "val_loss = history.history['val_loss']\n",
    "\n",
    "epochs = range(1, len(acc) + 1)\n",
    "\n",
    "plt.plot(epochs, acc, 'bo', label ='Training acc')\n",
    "plt.plot(epochs, val_acc, 'b', label='Validation acc')\n",
    "plt.title('Training and validation accuracy')\n",
    "plt.legend()\n",
    "\n",
    "plt.figure()\n",
    "\n",
    "plt.plot(epochs, loss, 'bo', label='Training loss')\n",
    "plt.plot(epochs, val_loss, 'b', label='Validation loss')\n",
    "plt.title('Training and validation loss')\n",
    "plt.legend()\n",
    "\n",
    "plt.show()"
   ]
  },
  {
   "cell_type": "markdown",
   "metadata": {},
   "source": [
    "# Method 3 - Fine Tuning"
   ]
  },
  {
   "cell_type": "code",
   "execution_count": null,
   "metadata": {},
   "outputs": [],
   "source": []
  }
 ],
 "metadata": {
  "kernelspec": {
   "display_name": "Python 3",
   "language": "python",
   "name": "python3"
  },
  "language_info": {
   "codemirror_mode": {
    "name": "ipython",
    "version": 3
   },
   "file_extension": ".py",
   "mimetype": "text/x-python",
   "name": "python",
   "nbconvert_exporter": "python",
   "pygments_lexer": "ipython3",
   "version": "3.8.5"
  }
 },
 "nbformat": 4,
 "nbformat_minor": 4
}
