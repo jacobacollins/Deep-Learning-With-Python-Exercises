{
 "cells": [
  {
   "cell_type": "markdown",
   "metadata": {},
   "source": [
    "# load model"
   ]
  },
  {
   "cell_type": "code",
   "execution_count": 6,
   "metadata": {},
   "outputs": [],
   "source": [
    "from tensorflow import keras\n",
    "\n",
    "conv_base = keras.applications.VGG16(weights='imagenet',\n",
    "                                     include_top = False,\n",
    "                                     input_shape = (150,150,3))"
   ]
  },
  {
   "cell_type": "markdown",
   "metadata": {},
   "source": [
    "# Investigate Structure"
   ]
  },
  {
   "cell_type": "code",
   "execution_count": 7,
   "metadata": {},
   "outputs": [
    {
     "name": "stdout",
     "output_type": "stream",
     "text": [
      "Model: \"vgg16\"\n",
      "_________________________________________________________________\n",
      "Layer (type)                 Output Shape              Param #   \n",
      "=================================================================\n",
      "input_3 (InputLayer)         [(None, 150, 150, 3)]     0         \n",
      "_________________________________________________________________\n",
      "block1_conv1 (Conv2D)        (None, 150, 150, 64)      1792      \n",
      "_________________________________________________________________\n",
      "block1_conv2 (Conv2D)        (None, 150, 150, 64)      36928     \n",
      "_________________________________________________________________\n",
      "block1_pool (MaxPooling2D)   (None, 75, 75, 64)        0         \n",
      "_________________________________________________________________\n",
      "block2_conv1 (Conv2D)        (None, 75, 75, 128)       73856     \n",
      "_________________________________________________________________\n",
      "block2_conv2 (Conv2D)        (None, 75, 75, 128)       147584    \n",
      "_________________________________________________________________\n",
      "block2_pool (MaxPooling2D)   (None, 37, 37, 128)       0         \n",
      "_________________________________________________________________\n",
      "block3_conv1 (Conv2D)        (None, 37, 37, 256)       295168    \n",
      "_________________________________________________________________\n",
      "block3_conv2 (Conv2D)        (None, 37, 37, 256)       590080    \n",
      "_________________________________________________________________\n",
      "block3_conv3 (Conv2D)        (None, 37, 37, 256)       590080    \n",
      "_________________________________________________________________\n",
      "block3_pool (MaxPooling2D)   (None, 18, 18, 256)       0         \n",
      "_________________________________________________________________\n",
      "block4_conv1 (Conv2D)        (None, 18, 18, 512)       1180160   \n",
      "_________________________________________________________________\n",
      "block4_conv2 (Conv2D)        (None, 18, 18, 512)       2359808   \n",
      "_________________________________________________________________\n",
      "block4_conv3 (Conv2D)        (None, 18, 18, 512)       2359808   \n",
      "_________________________________________________________________\n",
      "block4_pool (MaxPooling2D)   (None, 9, 9, 512)         0         \n",
      "_________________________________________________________________\n",
      "block5_conv1 (Conv2D)        (None, 9, 9, 512)         2359808   \n",
      "_________________________________________________________________\n",
      "block5_conv2 (Conv2D)        (None, 9, 9, 512)         2359808   \n",
      "_________________________________________________________________\n",
      "block5_conv3 (Conv2D)        (None, 9, 9, 512)         2359808   \n",
      "_________________________________________________________________\n",
      "block5_pool (MaxPooling2D)   (None, 4, 4, 512)         0         \n",
      "=================================================================\n",
      "Total params: 14,714,688\n",
      "Trainable params: 14,714,688\n",
      "Non-trainable params: 0\n",
      "_________________________________________________________________\n"
     ]
    }
   ],
   "source": [
    "conv_base.summary()"
   ]
  },
  {
   "cell_type": "markdown",
   "metadata": {},
   "source": [
    "# Method 1 (Utilizing convolutional base, no Densely connected Layer base)"
   ]
  },
  {
   "cell_type": "code",
   "execution_count": 13,
   "metadata": {},
   "outputs": [
    {
     "name": "stdout",
     "output_type": "stream",
     "text": [
      "Found 2000 images belonging to 2 classes.\n",
      "Found 1000 images belonging to 2 classes.\n",
      "Found 1000 images belonging to 2 classes.\n"
     ]
    }
   ],
   "source": [
    "import os \n",
    "import numpy as np\n",
    "from tensorflow import keras\n",
    "\n",
    "base_dir = os.path.abspath('/Users/jacob/OneDrive/Desktop/GitHub/Deep-Learning-With-Python-Exercises/cats_and_dogs_small')\n",
    "\n",
    "os.chdir(base_dir)\n",
    "\n",
    "train_dir = os.path.join(base_dir, 'train')\n",
    "validation_dir = os.path.join(base_dir, 'validation')\n",
    "test_dir = os.path.join(base_dir, 'test')\n",
    "\n",
    "datagen = keras.preprocessing.image.ImageDataGenerator(rescale = 1./255)\n",
    "batch_size = 20\n",
    "\n",
    "def extract_features(directory, sample_count):\n",
    "    features = np.zeros(shape=(sample_count, 4, 4, 512))\n",
    "    labels = np.zeros(shape=(sample_count))\n",
    "    generator = datagen.flow_from_directory(\n",
    "        directory,\n",
    "        target_size = (150,150),\n",
    "        batch_size = batch_size,\n",
    "        class_mode = 'binary'\n",
    "    )\n",
    "    i = 0\n",
    "    for inputs_batch, labels_batch  in generator:\n",
    "        features_batch = conv_base.predict(inputs_batch)\n",
    "        features[i * batch_size: (i + 1) * batch_size] = features_batch\n",
    "        labels[i * batch_size: (i + 1) *  batch_size] = labels_batch\n",
    "        i += 1\n",
    "        if i * batch_size>= sample_count:\n",
    "            break\n",
    "    return features, labels\n",
    "\n",
    "train_features, train_labels = extract_features(train_dir, 2000)\n",
    "validation_features, validation_labels = extract_features(validation_dir, 1000)\n",
    "test_features, test_labels = extract_features(test_dir, 1000)"
   ]
  },
  {
   "cell_type": "markdown",
   "metadata": {},
   "source": [
    "# Flatten features to lower dimensionality"
   ]
  },
  {
   "cell_type": "code",
   "execution_count": 14,
   "metadata": {},
   "outputs": [],
   "source": [
    "train_features = np.reshape(train_features, (2000, 4 * 4 * 512))\n",
    "validation_features = np.reshape(validation_features, (1000, 4*4*512))\n",
    "test_features = np.reshape(test_features, (1000, 4 * 4 * 512))"
   ]
  },
  {
   "cell_type": "markdown",
   "metadata": {},
   "source": [
    "# Feed feature data into Densely  connected classifier"
   ]
  },
  {
   "cell_type": "code",
   "execution_count": 17,
   "metadata": {},
   "outputs": [
    {
     "name": "stdout",
     "output_type": "stream",
     "text": [
      "Epoch 1/30\n",
      "100/100 [==============================] - 3s 27ms/step - loss: 0.6694 - acc: 0.6001 - val_loss: 0.4504 - val_acc: 0.8260\n",
      "Epoch 2/30\n",
      "100/100 [==============================] - 2s 24ms/step - loss: 0.4451 - acc: 0.8014 - val_loss: 0.3724 - val_acc: 0.8620\n",
      "Epoch 3/30\n",
      "100/100 [==============================] - 2s 23ms/step - loss: 0.3665 - acc: 0.8521 - val_loss: 0.3313 - val_acc: 0.8840\n",
      "Epoch 4/30\n",
      "100/100 [==============================] - 2s 23ms/step - loss: 0.3265 - acc: 0.8710 - val_loss: 0.3067 - val_acc: 0.8800\n",
      "Epoch 5/30\n",
      "100/100 [==============================] - 2s 23ms/step - loss: 0.2857 - acc: 0.8917 - val_loss: 0.2906 - val_acc: 0.8850\n",
      "Epoch 6/30\n",
      "100/100 [==============================] - 2s 24ms/step - loss: 0.2630 - acc: 0.9005 - val_loss: 0.2767 - val_acc: 0.8930\n",
      "Epoch 7/30\n",
      "100/100 [==============================] - 2s 23ms/step - loss: 0.2595 - acc: 0.8981 - val_loss: 0.2695 - val_acc: 0.8930\n",
      "Epoch 8/30\n",
      "100/100 [==============================] - 2s 23ms/step - loss: 0.2440 - acc: 0.8986 - val_loss: 0.2598 - val_acc: 0.8970\n",
      "Epoch 9/30\n",
      "100/100 [==============================] - 2s 23ms/step - loss: 0.2376 - acc: 0.9109 - val_loss: 0.2546 - val_acc: 0.8990\n",
      "Epoch 10/30\n",
      "100/100 [==============================] - 2s 24ms/step - loss: 0.2270 - acc: 0.9137 - val_loss: 0.2537 - val_acc: 0.9000\n",
      "Epoch 11/30\n",
      "100/100 [==============================] - 2s 24ms/step - loss: 0.1962 - acc: 0.9269 - val_loss: 0.2480 - val_acc: 0.9000\n",
      "Epoch 12/30\n",
      "100/100 [==============================] - 2s 23ms/step - loss: 0.2061 - acc: 0.9309 - val_loss: 0.2464 - val_acc: 0.9010\n",
      "Epoch 13/30\n",
      "100/100 [==============================] - 2s 24ms/step - loss: 0.1917 - acc: 0.9321 - val_loss: 0.2459 - val_acc: 0.9020\n",
      "Epoch 14/30\n",
      "100/100 [==============================] - 3s 27ms/step - loss: 0.1772 - acc: 0.9287 - val_loss: 0.2443 - val_acc: 0.9010\n",
      "Epoch 15/30\n",
      "100/100 [==============================] - 2s 24ms/step - loss: 0.1674 - acc: 0.9440 - val_loss: 0.2413 - val_acc: 0.9030\n",
      "Epoch 16/30\n",
      "100/100 [==============================] - 2s 24ms/step - loss: 0.1504 - acc: 0.9545 - val_loss: 0.2360 - val_acc: 0.9040\n",
      "Epoch 17/30\n",
      "100/100 [==============================] - 2s 24ms/step - loss: 0.1565 - acc: 0.9435 - val_loss: 0.2411 - val_acc: 0.9040\n",
      "Epoch 18/30\n",
      "100/100 [==============================] - 2s 24ms/step - loss: 0.1555 - acc: 0.9488 - val_loss: 0.2328 - val_acc: 0.9050\n",
      "Epoch 19/30\n",
      "100/100 [==============================] - 2s 24ms/step - loss: 0.1433 - acc: 0.9500 - val_loss: 0.2338 - val_acc: 0.9030\n",
      "Epoch 20/30\n",
      "100/100 [==============================] - 2s 23ms/step - loss: 0.1368 - acc: 0.9567 - val_loss: 0.2346 - val_acc: 0.9010\n",
      "Epoch 21/30\n",
      "100/100 [==============================] - 2s 23ms/step - loss: 0.1463 - acc: 0.9533 - val_loss: 0.2384 - val_acc: 0.9020\n",
      "Epoch 22/30\n",
      "100/100 [==============================] - 2s 23ms/step - loss: 0.1252 - acc: 0.9585 - val_loss: 0.2311 - val_acc: 0.9030\n",
      "Epoch 23/30\n",
      "100/100 [==============================] - 2s 23ms/step - loss: 0.1218 - acc: 0.9572 - val_loss: 0.2334 - val_acc: 0.9050\n",
      "Epoch 24/30\n",
      "100/100 [==============================] - 2s 23ms/step - loss: 0.1099 - acc: 0.9632 - val_loss: 0.2434 - val_acc: 0.9030\n",
      "Epoch 25/30\n",
      "100/100 [==============================] - 2s 23ms/step - loss: 0.1051 - acc: 0.9669 - val_loss: 0.2370 - val_acc: 0.9020\n",
      "Epoch 26/30\n",
      "100/100 [==============================] - 2s 23ms/step - loss: 0.1171 - acc: 0.9648 - val_loss: 0.2324 - val_acc: 0.9050\n",
      "Epoch 27/30\n",
      "100/100 [==============================] - 2s 24ms/step - loss: 0.1042 - acc: 0.9682 - val_loss: 0.2342 - val_acc: 0.9040\n",
      "Epoch 28/30\n",
      "100/100 [==============================] - 2s 23ms/step - loss: 0.0958 - acc: 0.9728 - val_loss: 0.2418 - val_acc: 0.9070\n",
      "Epoch 29/30\n",
      "100/100 [==============================] - 2s 23ms/step - loss: 0.0958 - acc: 0.9707 - val_loss: 0.2396 - val_acc: 0.9040\n",
      "Epoch 30/30\n",
      "100/100 [==============================] - 2s 23ms/step - loss: 0.0899 - acc: 0.9749 - val_loss: 0.2366 - val_acc: 0.9010\n"
     ]
    }
   ],
   "source": [
    "from tensorflow import keras\n",
    "\n",
    "model = keras.models.Sequential()\n",
    "model.add(keras.layers.Dense(256, activation='relu', input_dim=4*4*512))\n",
    "model.add(keras.layers.Dropout(0.5))\n",
    "model.add(keras.layers.Dense(1, activation='sigmoid'))\n",
    "\n",
    "model.compile(optimizer = keras.optimizers.RMSprop(lr=2e-5),\n",
    "              loss = 'binary_crossentropy',\n",
    "              metrics = ['acc'])\n",
    "\n",
    "history = model.fit(train_features, train_labels, \n",
    "                    epochs = 30,\n",
    "                    batch_size = 20,\n",
    "                    validation_data = (validation_features, validation_labels))"
   ]
  },
  {
   "cell_type": "markdown",
   "metadata": {},
   "source": [
    "# Plot results"
   ]
  },
  {
   "cell_type": "code",
   "execution_count": 19,
   "metadata": {},
   "outputs": [
    {
     "data": {
      "image/png": "[encoded data removed]",
      "text/plain": [
       "<Figure size 432x288 with 1 Axes>"
      ]
     },
     "metadata": {
      "needs_background": "light"
     },
     "output_type": "display_data"
    },
    {
     "data": {
      "image/png": "[encoded data removed]",
      "text/plain": [
       "<Figure size 432x288 with 1 Axes>"
      ]
     },
     "metadata": {
      "needs_background": "light"
     },
     "output_type": "display_data"
    }
   ],
   "source": [
    "import matplotlib.pyplot as plt\n",
    "\n",
    "acc = history.history['acc']\n",
    "val_acc = history.history['val_acc']\n",
    "loss = history.history['loss']\n",
    "val_loss = history.history['val_loss']\n",
    "\n",
    "epochs = range(1, len(acc) + 1)\n",
    "\n",
    "plt.plot(epochs, acc, 'bo', label ='Training acc')\n",
    "plt.plot(epochs, val_acc, 'b', label='Validation acc')\n",
    "plt.title('Training and validation accuracy')\n",
    "plt.legend()\n",
    "\n",
    "plt.figure()\n",
    "\n",
    "plt.plot(epochs, loss, 'bo', label='Training loss')\n",
    "plt.plot(epochs, val_loss, 'b', label='Validation loss')\n",
    "plt.title('Training and validation loss')\n",
    "plt.legend()\n",
    "\n",
    "plt.show()"
   ]
  },
  {
   "cell_type": "code",
   "execution_count": null,
   "metadata": {},
   "outputs": [],
   "source": []
  }
 ],
 "metadata": {
  "kernelspec": {
   "display_name": "Python 3",
   "language": "python",
   "name": "python3"
  },
  "language_info": {
   "codemirror_mode": {
    "name": "ipython",
    "version": 3
   },
   "file_extension": ".py",
   "mimetype": "text/x-python",
   "name": "python",
   "nbconvert_exporter": "python",
   "pygments_lexer": "ipython3",
   "version": "3.8.5"
  }
 },
 "nbformat": 4,
 "nbformat_minor": 4
}
