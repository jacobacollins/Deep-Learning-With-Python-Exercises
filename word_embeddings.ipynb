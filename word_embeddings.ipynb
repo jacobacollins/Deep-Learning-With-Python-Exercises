{
 "cells": [
  {
   "cell_type": "markdown",
   "metadata": {},
   "source": [
    "# Load Data"
   ]
  },
  {
   "cell_type": "code",
   "execution_count": 4,
   "metadata": {},
   "outputs": [],
   "source": [
    "from tensorflow import keras\n",
    "\n",
    "max_features = 10000\n",
    "maxlen = 20\n",
    "\n",
    "(x_train, y_train), (x_test, y_test) = keras.datasets.imdb.load_data(num_words = max_features)\n",
    "\n",
    "x_train = keras.preprocessing.sequence.pad_sequences(x_train, maxlen=maxlen)\n",
    "x_test = keras.preprocessing.sequence.pad_sequences(x_test, maxlen=maxlen)"
   ]
  },
  {
   "cell_type": "markdown",
   "metadata": {},
   "source": [
    "# Use Embedding Layer  to structure space"
   ]
  },
  {
   "cell_type": "code",
   "execution_count": 8,
   "metadata": {},
   "outputs": [
    {
     "name": "stdout",
     "output_type": "stream",
     "text": [
      "Model: \"sequential_3\"\n",
      "_________________________________________________________________\n",
      "Layer (type)                 Output Shape              Param #   \n",
      "=================================================================\n",
      "embedding_3 (Embedding)      (None, 20, 8)             80000     \n",
      "_________________________________________________________________\n",
      "flatten_3 (Flatten)          (None, 160)               0         \n",
      "_________________________________________________________________\n",
      "dense_3 (Dense)              (None, 1)                 161       \n",
      "=================================================================\n",
      "Total params: 80,161\n",
      "Trainable params: 80,161\n",
      "Non-trainable params: 0\n",
      "_________________________________________________________________\n",
      "Epoch 1/10\n",
      "625/625 [==============================] - 2s 2ms/step - loss: 0.6863 - acc: 0.5604 - val_loss: 0.6277 - val_acc: 0.6938\n",
      "Epoch 2/10\n",
      "625/625 [==============================] - 1s 829us/step - loss: 0.5772 - acc: 0.7474 - val_loss: 0.5343 - val_acc: 0.7260\n",
      "Epoch 3/10\n",
      "625/625 [==============================] - 1s 805us/step - loss: 0.4746 - acc: 0.7855 - val_loss: 0.5048 - val_acc: 0.7464\n",
      "Epoch 4/10\n",
      "625/625 [==============================] - 1s 838us/step - loss: 0.4202 - acc: 0.8126 - val_loss: 0.4952 - val_acc: 0.7516\n",
      "Epoch 5/10\n",
      "625/625 [==============================] - 1s 828us/step - loss: 0.3929 - acc: 0.8263 - val_loss: 0.4952 - val_acc: 0.7548\n",
      "Epoch 6/10\n",
      "625/625 [==============================] - 1s 868us/step - loss: 0.3745 - acc: 0.8335 - val_loss: 0.4989 - val_acc: 0.7530\n",
      "Epoch 7/10\n",
      "625/625 [==============================] - 1s 868us/step - loss: 0.3462 - acc: 0.8544 - val_loss: 0.5040 - val_acc: 0.7512\n",
      "Epoch 8/10\n",
      "625/625 [==============================] - 1s 824us/step - loss: 0.3198 - acc: 0.8635 - val_loss: 0.5112 - val_acc: 0.7518\n",
      "Epoch 9/10\n",
      "625/625 [==============================] - 1s 903us/step - loss: 0.3010 - acc: 0.8766 - val_loss: 0.5207 - val_acc: 0.7484\n",
      "Epoch 10/10\n",
      "625/625 [==============================] - 1s 867us/step - loss: 0.2884 - acc: 0.8835 - val_loss: 0.5301 - val_acc: 0.7476\n"
     ]
    }
   ],
   "source": [
    "model = keras.models.Sequential()\n",
    "model.add(keras.layers.Embedding(10000, 8, input_length = maxlen))\n",
    "\n",
    "model.add(keras.layers.Flatten())\n",
    "\n",
    "model.add(keras.layers.Dense(1, activation = 'sigmoid'))\n",
    "model.compile(optimizer = 'rmsprop', loss='binary_crossentropy', metrics=['acc'])\n",
    "model.summary()\n",
    "\n",
    "history = model.fit(x_train, y_train,\n",
    "                    epochs = 10,\n",
    "                    batch_size = 32,\n",
    "                    validation_split = 0.2)"
   ]
  },
  {
   "cell_type": "markdown",
   "metadata": {},
   "source": [
    "# Option 2 - Use Pretrained word embeddings "
   ]
  },
  {
   "cell_type": "code",
   "execution_count": null,
   "metadata": {},
   "outputs": [],
   "source": []
  }
 ],
 "metadata": {
  "kernelspec": {
   "display_name": "Python 3",
   "language": "python",
   "name": "python3"
  },
  "language_info": {
   "codemirror_mode": {
    "name": "ipython",
    "version": 3
   },
   "file_extension": ".py",
   "mimetype": "text/x-python",
   "name": "python",
   "nbconvert_exporter": "python",
   "pygments_lexer": "ipython3",
   "version": "3.8.5"
  }
 },
 "nbformat": 4,
 "nbformat_minor": 4
}
